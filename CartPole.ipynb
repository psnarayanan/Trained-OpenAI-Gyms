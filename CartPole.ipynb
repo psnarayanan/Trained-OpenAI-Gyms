{
 "cells": [
  {
   "cell_type": "code",
   "execution_count": 2,
   "id": "06ea5afe-7f72-48ab-94cb-5c1ec383f386",
   "metadata": {},
   "outputs": [
    {
     "name": "stdout",
     "output_type": "stream",
     "text": [
      "Requirement already satisfied: stable-baselines3 in c:\\users\\buzzp\\appdata\\local\\programs\\python\\python310\\lib\\site-packages (1.4.0)\n",
      "Requirement already satisfied: pyglet in c:\\users\\buzzp\\appdata\\local\\programs\\python\\python310\\lib\\site-packages (1.5.23)\n",
      "Requirement already satisfied: numpy in c:\\users\\buzzp\\appdata\\local\\programs\\python\\python310\\lib\\site-packages (from stable-baselines3) (1.22.3)\n",
      "Requirement already satisfied: torch>=1.8.1 in c:\\users\\buzzp\\appdata\\local\\programs\\python\\python310\\lib\\site-packages (from stable-baselines3) (1.11.0)\n",
      "Requirement already satisfied: matplotlib in c:\\users\\buzzp\\appdata\\local\\programs\\python\\python310\\lib\\site-packages (from stable-baselines3) (3.5.1)\n",
      "Requirement already satisfied: pandas in c:\\users\\buzzp\\appdata\\local\\programs\\python\\python310\\lib\\site-packages (from stable-baselines3) (1.4.1)\n",
      "Requirement already satisfied: cloudpickle in c:\\users\\buzzp\\appdata\\local\\programs\\python\\python310\\lib\\site-packages (from stable-baselines3) (1.6.0)\n",
      "Requirement already satisfied: gym<0.20,>=0.17 in c:\\users\\buzzp\\appdata\\local\\programs\\python\\python310\\lib\\site-packages (from stable-baselines3) (0.19.0)\n",
      "Requirement already satisfied: typing-extensions in c:\\users\\buzzp\\appdata\\local\\programs\\python\\python310\\lib\\site-packages (from torch>=1.8.1->stable-baselines3) (4.1.1)\n",
      "Requirement already satisfied: python-dateutil>=2.7 in c:\\users\\buzzp\\appdata\\local\\programs\\python\\python310\\lib\\site-packages (from matplotlib->stable-baselines3) (2.8.2)\n",
      "Requirement already satisfied: packaging>=20.0 in c:\\users\\buzzp\\appdata\\local\\programs\\python\\python310\\lib\\site-packages (from matplotlib->stable-baselines3) (21.3)\n",
      "Requirement already satisfied: kiwisolver>=1.0.1 in c:\\users\\buzzp\\appdata\\local\\programs\\python\\python310\\lib\\site-packages (from matplotlib->stable-baselines3) (1.4.0)\n",
      "Requirement already satisfied: fonttools>=4.22.0 in c:\\users\\buzzp\\appdata\\local\\programs\\python\\python310\\lib\\site-packages (from matplotlib->stable-baselines3) (4.30.0)\n",
      "Requirement already satisfied: pyparsing>=2.2.1 in c:\\users\\buzzp\\appdata\\local\\programs\\python\\python310\\lib\\site-packages (from matplotlib->stable-baselines3) (3.0.7)\n",
      "Requirement already satisfied: cycler>=0.10 in c:\\users\\buzzp\\appdata\\local\\programs\\python\\python310\\lib\\site-packages (from matplotlib->stable-baselines3) (0.11.0)\n",
      "Requirement already satisfied: pillow>=6.2.0 in c:\\users\\buzzp\\appdata\\local\\programs\\python\\python310\\lib\\site-packages (from matplotlib->stable-baselines3) (9.0.1)\n",
      "Requirement already satisfied: pytz>=2020.1 in c:\\users\\buzzp\\appdata\\local\\programs\\python\\python310\\lib\\site-packages (from pandas->stable-baselines3) (2021.3)\n",
      "Requirement already satisfied: six>=1.5 in c:\\users\\buzzp\\appdata\\local\\programs\\python\\python310\\lib\\site-packages (from python-dateutil>=2.7->matplotlib->stable-baselines3) (1.16.0)\n"
     ]
    }
   ],
   "source": [
    "!pip install stable-baselines3 pyglet"
   ]
  },
  {
   "cell_type": "code",
   "execution_count": 3,
   "id": "c2398829-5017-49f2-8579-bca05d805f31",
   "metadata": {},
   "outputs": [],
   "source": [
    "import os\n",
    "import gym\n",
    "from stable_baselines3 import PPO\n",
    "from stable_baselines3.common.vec_env import DummyVecEnv\n",
    "from stable_baselines3.common.evaluation import evaluate_policy"
   ]
  },
  {
   "cell_type": "code",
   "execution_count": 4,
   "id": "7b94e12e-8f77-4082-932c-d6d4e386a147",
   "metadata": {},
   "outputs": [],
   "source": [
    "environment_name = \"CartPole-v0\"\n",
    "env = gym.make(environment_name)"
   ]
  },
  {
   "cell_type": "code",
   "execution_count": 5,
   "id": "2eb3ba7c-ba10-4f49-ac92-fb56d4dd6d81",
   "metadata": {},
   "outputs": [
    {
     "name": "stdout",
     "output_type": "stream",
     "text": [
      "Episode:1 Score:14.0\n",
      "Episode:2 Score:23.0\n",
      "Episode:3 Score:18.0\n",
      "Episode:4 Score:36.0\n",
      "Episode:5 Score:10.0\n",
      "Episode:6 Score:20.0\n",
      "Episode:7 Score:30.0\n",
      "Episode:8 Score:10.0\n",
      "Episode:9 Score:10.0\n",
      "Episode:10 Score:38.0\n"
     ]
    }
   ],
   "source": [
    "episodes = 10\n",
    "for episode in range(1, episodes+1):\n",
    "    state = env.reset()\n",
    "    done = False\n",
    "    score = 0\n",
    "    \n",
    "    while not done:\n",
    "        env.render()\n",
    "        action = env.action_space.sample()\n",
    "        n_state, reward, done, info = env.step(action)\n",
    "        score += reward\n",
    "        \n",
    "    print(\"Episode:{} Score:{}\".format(episode, score))\n",
    "env.close()"
   ]
  },
  {
   "cell_type": "code",
   "execution_count": 6,
   "id": "924e0cc7-a774-4561-b60c-208405303d43",
   "metadata": {},
   "outputs": [],
   "source": [
    "log_path = os.path.join(\"Training\", \"Logs\")"
   ]
  },
  {
   "cell_type": "code",
   "execution_count": 7,
   "id": "93ae39cc-635e-427f-aa5f-7230513f8609",
   "metadata": {},
   "outputs": [
    {
     "name": "stdout",
     "output_type": "stream",
     "text": [
      "Using cpu device\n"
     ]
    }
   ],
   "source": [
    "env = gym.make(environment_name)\n",
    "env = DummyVecEnv([lambda: env])\n",
    "model = PPO(\"MlpPolicy\", env, verbose=1, tensorboard_log=log_path)"
   ]
  },
  {
   "cell_type": "code",
   "execution_count": 8,
   "id": "33ac1fba-d22e-44e7-8efa-87893b7bccb3",
   "metadata": {},
   "outputs": [
    {
     "name": "stdout",
     "output_type": "stream",
     "text": [
      "Logging to Training\\Logs\\PPO_3\n",
      "-----------------------------\n",
      "| time/              |      |\n",
      "|    fps             | 32   |\n",
      "|    iterations      | 1    |\n",
      "|    time_elapsed    | 62   |\n",
      "|    total_timesteps | 2048 |\n",
      "-----------------------------\n",
      "-----------------------------------------\n",
      "| time/                   |             |\n",
      "|    fps                  | 59          |\n",
      "|    iterations           | 2           |\n",
      "|    time_elapsed         | 69          |\n",
      "|    total_timesteps      | 4096        |\n",
      "| train/                  |             |\n",
      "|    approx_kl            | 0.008895775 |\n",
      "|    clip_fraction        | 0.109       |\n",
      "|    clip_range           | 0.2         |\n",
      "|    entropy_loss         | -0.686      |\n",
      "|    explained_variance   | 0.000443    |\n",
      "|    learning_rate        | 0.0003      |\n",
      "|    loss                 | 7.05        |\n",
      "|    n_updates            | 10          |\n",
      "|    policy_gradient_loss | -0.0164     |\n",
      "|    value_loss           | 53.1        |\n",
      "-----------------------------------------\n",
      "-----------------------------------------\n",
      "| time/                   |             |\n",
      "|    fps                  | 82          |\n",
      "|    iterations           | 3           |\n",
      "|    time_elapsed         | 74          |\n",
      "|    total_timesteps      | 6144        |\n",
      "| train/                  |             |\n",
      "|    approx_kl            | 0.008099332 |\n",
      "|    clip_fraction        | 0.042       |\n",
      "|    clip_range           | 0.2         |\n",
      "|    entropy_loss         | -0.669      |\n",
      "|    explained_variance   | 0.0739      |\n",
      "|    learning_rate        | 0.0003      |\n",
      "|    loss                 | 15.2        |\n",
      "|    n_updates            | 20          |\n",
      "|    policy_gradient_loss | -0.0119     |\n",
      "|    value_loss           | 42.8        |\n",
      "-----------------------------------------\n",
      "------------------------------------------\n",
      "| time/                   |              |\n",
      "|    fps                  | 102          |\n",
      "|    iterations           | 4            |\n",
      "|    time_elapsed         | 79           |\n",
      "|    total_timesteps      | 8192         |\n",
      "| train/                  |              |\n",
      "|    approx_kl            | 0.0093432795 |\n",
      "|    clip_fraction        | 0.102        |\n",
      "|    clip_range           | 0.2          |\n",
      "|    entropy_loss         | -0.638       |\n",
      "|    explained_variance   | 0.235        |\n",
      "|    learning_rate        | 0.0003       |\n",
      "|    loss                 | 19.7         |\n",
      "|    n_updates            | 30           |\n",
      "|    policy_gradient_loss | -0.0197      |\n",
      "|    value_loss           | 51.2         |\n",
      "------------------------------------------\n",
      "-----------------------------------------\n",
      "| time/                   |             |\n",
      "|    fps                  | 119         |\n",
      "|    iterations           | 5           |\n",
      "|    time_elapsed         | 85          |\n",
      "|    total_timesteps      | 10240       |\n",
      "| train/                  |             |\n",
      "|    approx_kl            | 0.010645948 |\n",
      "|    clip_fraction        | 0.0706      |\n",
      "|    clip_range           | 0.2         |\n",
      "|    entropy_loss         | -0.612      |\n",
      "|    explained_variance   | 0.457       |\n",
      "|    learning_rate        | 0.0003      |\n",
      "|    loss                 | 23.5        |\n",
      "|    n_updates            | 40          |\n",
      "|    policy_gradient_loss | -0.0153     |\n",
      "|    value_loss           | 54.5        |\n",
      "-----------------------------------------\n",
      "------------------------------------------\n",
      "| time/                   |              |\n",
      "|    fps                  | 133          |\n",
      "|    iterations           | 6            |\n",
      "|    time_elapsed         | 92           |\n",
      "|    total_timesteps      | 12288        |\n",
      "| train/                  |              |\n",
      "|    approx_kl            | 0.0058744526 |\n",
      "|    clip_fraction        | 0.0445       |\n",
      "|    clip_range           | 0.2          |\n",
      "|    entropy_loss         | -0.594       |\n",
      "|    explained_variance   | 0.459        |\n",
      "|    learning_rate        | 0.0003       |\n",
      "|    loss                 | 19           |\n",
      "|    n_updates            | 50           |\n",
      "|    policy_gradient_loss | -0.0116      |\n",
      "|    value_loss           | 61.2         |\n",
      "------------------------------------------\n",
      "-----------------------------------------\n",
      "| time/                   |             |\n",
      "|    fps                  | 146         |\n",
      "|    iterations           | 7           |\n",
      "|    time_elapsed         | 98          |\n",
      "|    total_timesteps      | 14336       |\n",
      "| train/                  |             |\n",
      "|    approx_kl            | 0.004502163 |\n",
      "|    clip_fraction        | 0.0237      |\n",
      "|    clip_range           | 0.2         |\n",
      "|    entropy_loss         | -0.591      |\n",
      "|    explained_variance   | 0.51        |\n",
      "|    learning_rate        | 0.0003      |\n",
      "|    loss                 | 5.51        |\n",
      "|    n_updates            | 60          |\n",
      "|    policy_gradient_loss | -0.00754    |\n",
      "|    value_loss           | 50.5        |\n",
      "-----------------------------------------\n",
      "---------------------------------------\n",
      "| time/                   |           |\n",
      "|    fps                  | 158       |\n",
      "|    iterations           | 8         |\n",
      "|    time_elapsed         | 103       |\n",
      "|    total_timesteps      | 16384     |\n",
      "| train/                  |           |\n",
      "|    approx_kl            | 0.0090841 |\n",
      "|    clip_fraction        | 0.0787    |\n",
      "|    clip_range           | 0.2       |\n",
      "|    entropy_loss         | -0.592    |\n",
      "|    explained_variance   | 0.132     |\n",
      "|    learning_rate        | 0.0003    |\n",
      "|    loss                 | 5.83      |\n",
      "|    n_updates            | 70        |\n",
      "|    policy_gradient_loss | -0.00801  |\n",
      "|    value_loss           | 48        |\n",
      "---------------------------------------\n",
      "----------------------------------------\n",
      "| time/                   |            |\n",
      "|    fps                  | 170        |\n",
      "|    iterations           | 9          |\n",
      "|    time_elapsed         | 108        |\n",
      "|    total_timesteps      | 18432      |\n",
      "| train/                  |            |\n",
      "|    approx_kl            | 0.00802875 |\n",
      "|    clip_fraction        | 0.069      |\n",
      "|    clip_range           | 0.2        |\n",
      "|    entropy_loss         | -0.594     |\n",
      "|    explained_variance   | 0.774      |\n",
      "|    learning_rate        | 0.0003     |\n",
      "|    loss                 | 5.01       |\n",
      "|    n_updates            | 80         |\n",
      "|    policy_gradient_loss | -0.00746   |\n",
      "|    value_loss           | 30.3       |\n",
      "----------------------------------------\n",
      "------------------------------------------\n",
      "| time/                   |              |\n",
      "|    fps                  | 182          |\n",
      "|    iterations           | 10           |\n",
      "|    time_elapsed         | 112          |\n",
      "|    total_timesteps      | 20480        |\n",
      "| train/                  |              |\n",
      "|    approx_kl            | 0.0069594085 |\n",
      "|    clip_fraction        | 0.0313       |\n",
      "|    clip_range           | 0.2          |\n",
      "|    entropy_loss         | -0.582       |\n",
      "|    explained_variance   | 0.296        |\n",
      "|    learning_rate        | 0.0003       |\n",
      "|    loss                 | 5.64         |\n",
      "|    n_updates            | 90           |\n",
      "|    policy_gradient_loss | -0.00657     |\n",
      "|    value_loss           | 45.3         |\n",
      "------------------------------------------\n"
     ]
    },
    {
     "data": {
      "text/plain": [
       "<stable_baselines3.ppo.ppo.PPO at 0x28a1df333d0>"
      ]
     },
     "execution_count": 8,
     "metadata": {},
     "output_type": "execute_result"
    }
   ],
   "source": [
    "model.learn(total_timesteps=20000)"
   ]
  },
  {
   "cell_type": "code",
   "execution_count": 9,
   "id": "3c1c29a8-54ce-456f-8e78-a0184c52ea42",
   "metadata": {},
   "outputs": [],
   "source": [
    "PPO_Path = os.path.join(\"Training\", \"Saved Models\", \"PPO_Model_Cartpole\")\n",
    "model.save(PPO_Path)"
   ]
  },
  {
   "cell_type": "code",
   "execution_count": 10,
   "id": "a73baacd-8940-4db6-9986-87e787cf1ff6",
   "metadata": {},
   "outputs": [],
   "source": [
    "del model\n",
    "model = PPO.load(PPO_Path, env=env)"
   ]
  },
  {
   "cell_type": "code",
   "execution_count": 11,
   "id": "f649f777-0173-451c-972e-159f8076764f",
   "metadata": {},
   "outputs": [
    {
     "name": "stderr",
     "output_type": "stream",
     "text": [
      "C:\\Users\\buzzp\\AppData\\Local\\Programs\\Python\\Python310\\lib\\site-packages\\stable_baselines3\\common\\evaluation.py:65: UserWarning: Evaluation environment is not wrapped with a ``Monitor`` wrapper. This may result in reporting modified episode lengths and rewards, if other wrappers happen to modify these. Consider wrapping environment first with ``Monitor`` wrapper.\n",
      "  warnings.warn(\n"
     ]
    }
   ],
   "source": [
    "evaluate_policy(model, env, n_eval_episodes=10, render=True)\n",
    "env.close()"
   ]
  },
  {
   "cell_type": "code",
   "execution_count": 13,
   "id": "d6fd9188-a202-4553-9e43-be0930b7b5b5",
   "metadata": {},
   "outputs": [
    {
     "name": "stdout",
     "output_type": "stream",
     "text": [
      "Episode:1 Score:[200.]\n",
      "Episode:2 Score:[200.]\n",
      "Episode:3 Score:[200.]\n",
      "Episode:4 Score:[200.]\n",
      "Episode:5 Score:[200.]\n",
      "Episode:6 Score:[200.]\n",
      "Episode:7 Score:[200.]\n",
      "Episode:8 Score:[192.]\n",
      "Episode:9 Score:[200.]\n",
      "Episode:10 Score:[200.]\n"
     ]
    }
   ],
   "source": [
    "episodes = 10\n",
    "for episode in range(1, episodes+1):\n",
    "    obs = env.reset()\n",
    "    done = False\n",
    "    score = 0\n",
    "    \n",
    "    while not done:\n",
    "        env.render()\n",
    "        action, _  = model.predict(obs)\n",
    "        obs, reward, done, info = env.step(action)\n",
    "        score += reward\n",
    "        \n",
    "    print(\"Episode:{} Score:{}\".format(episode, score))\n",
    "env.close()"
   ]
  }
 ],
 "metadata": {
  "kernelspec": {
   "display_name": "Python 3 (ipykernel)",
   "language": "python",
   "name": "python3"
  },
  "language_info": {
   "codemirror_mode": {
    "name": "ipython",
    "version": 3
   },
   "file_extension": ".py",
   "mimetype": "text/x-python",
   "name": "python",
   "nbconvert_exporter": "python",
   "pygments_lexer": "ipython3",
   "version": "3.10.2"
  }
 },
 "nbformat": 4,
 "nbformat_minor": 5
}

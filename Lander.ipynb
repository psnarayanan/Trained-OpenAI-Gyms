{
 "cells": [
  {
   "cell_type": "code",
   "execution_count": 35,
   "id": "e5c8336f-0b50-44ae-b17a-d167b2827f43",
   "metadata": {},
   "outputs": [],
   "source": [
    "from procgen import ProcgenEnv\n",
    "\n",
    "from stable_baselines3 import PPO\n",
    "from stable_baselines3.common.vec_env import VecExtractDictObs, VecMonitor\n",
    "import os\n",
    "# ProcgenEnv is already vectorized\n",
    "venv = ProcgenEnv(num_envs=2, env_name='starpilot')\n",
    "\n",
    "# To use only part of the observation:\n",
    "# venv = VecExtractDictObs(venv, \"rgb\")\n",
    "\n",
    "# Wrap with a VecMonitor to collect stats and avoid errors\n",
    "env = VecMonitor(venv=venv)"
   ]
  },
  {
   "cell_type": "code",
   "execution_count": 38,
   "id": "cbfe80ff-de2e-4ac7-b3c8-8a19429de89d",
   "metadata": {},
   "outputs": [
    {
     "name": "stdout",
     "output_type": "stream",
     "text": [
      "Using cpu device\n",
      "Wrapping the env in a VecTransposeImage.\n",
      "----------------------------------\n",
      "| rollout/           |           |\n",
      "|    ep_len_mean     | 83.5      |\n",
      "|    ep_rew_mean     | 0.7291667 |\n",
      "| time/              |           |\n",
      "|    fps             | 614       |\n",
      "|    iterations      | 1         |\n",
      "|    time_elapsed    | 6         |\n",
      "|    total_timesteps | 4096      |\n",
      "----------------------------------\n",
      "-----------------------------------------\n",
      "| rollout/                |             |\n",
      "|    ep_len_mean          | 81.3        |\n",
      "|    ep_rew_mean          | 0.81        |\n",
      "| time/                   |             |\n",
      "|    fps                  | 182         |\n",
      "|    iterations           | 2           |\n",
      "|    time_elapsed         | 44          |\n",
      "|    total_timesteps      | 8192        |\n",
      "| train/                  |             |\n",
      "|    approx_kl            | 0.017873054 |\n",
      "|    clip_fraction        | 0.107       |\n",
      "|    clip_range           | 0.2         |\n",
      "|    entropy_loss         | -2.7        |\n",
      "|    explained_variance   | -0.126      |\n",
      "|    learning_rate        | 0.0003      |\n",
      "|    loss                 | -0.087      |\n",
      "|    n_updates            | 10          |\n",
      "|    policy_gradient_loss | -0.0288     |\n",
      "|    value_loss           | 0.0381      |\n",
      "-----------------------------------------\n",
      "-----------------------------------------\n",
      "| rollout/                |             |\n",
      "|    ep_len_mean          | 82.1        |\n",
      "|    ep_rew_mean          | 1.07        |\n",
      "| time/                   |             |\n",
      "|    fps                  | 147         |\n",
      "|    iterations           | 3           |\n",
      "|    time_elapsed         | 83          |\n",
      "|    total_timesteps      | 12288       |\n",
      "| train/                  |             |\n",
      "|    approx_kl            | 0.031763475 |\n",
      "|    clip_fraction        | 0.27        |\n",
      "|    clip_range           | 0.2         |\n",
      "|    entropy_loss         | -2.68       |\n",
      "|    explained_variance   | -0.165      |\n",
      "|    learning_rate        | 0.0003      |\n",
      "|    loss                 | -0.0694     |\n",
      "|    n_updates            | 20          |\n",
      "|    policy_gradient_loss | -0.0516     |\n",
      "|    value_loss           | 0.0733      |\n",
      "-----------------------------------------\n"
     ]
    },
    {
     "data": {
      "text/plain": [
       "<stable_baselines3.ppo.ppo.PPO at 0x231059aeb60>"
      ]
     },
     "execution_count": 38,
     "metadata": {},
     "output_type": "execute_result"
    }
   ],
   "source": [
    "model = PPO(\"MultiInputPolicy\", env, verbose=1)\n",
    "model.learn(10000)"
   ]
  },
  {
   "cell_type": "code",
   "execution_count": 39,
   "id": "669303f5-93f0-46c3-8ea9-e9ac0229c222",
   "metadata": {},
   "outputs": [],
   "source": [
    "PPO_Path = os.path.join(\"Training\", \"Saved Models\", \"PPO_Model_Cartpole\")"
   ]
  },
  {
   "cell_type": "code",
   "execution_count": 40,
   "id": "109a5966-712b-4f3e-ab7b-45b77b3abbfb",
   "metadata": {},
   "outputs": [],
   "source": [
    "model.save(PPO_Path)"
   ]
  },
  {
   "cell_type": "code",
   "execution_count": 41,
   "id": "b2f52472-7ace-4a03-9f5c-398a6d4e0953",
   "metadata": {},
   "outputs": [
    {
     "name": "stdout",
     "output_type": "stream",
     "text": [
      "Warning: manual reset ignored\n"
     ]
    }
   ],
   "source": [
    "evaluate_policy(model, env, n_eval_episodes=10, render=True)\n",
    "env.close()"
   ]
  },
  {
   "cell_type": "code",
   "execution_count": 42,
   "id": "6fd3624b-97d8-43bc-9712-3c8b44372f31",
   "metadata": {},
   "outputs": [
    {
     "name": "stdout",
     "output_type": "stream",
     "text": [
      "Warning: manual reset ignored\n"
     ]
    },
    {
     "ename": "ValueError",
     "evalue": "The truth value of an array with more than one element is ambiguous. Use a.any() or a.all()",
     "output_type": "error",
     "traceback": [
      "\u001b[1;31m---------------------------------------------------------------------------\u001b[0m",
      "\u001b[1;31mValueError\u001b[0m                                Traceback (most recent call last)",
      "Input \u001b[1;32mIn [42]\u001b[0m, in \u001b[0;36m<cell line: 2>\u001b[1;34m()\u001b[0m\n\u001b[0;32m      4\u001b[0m done \u001b[38;5;241m=\u001b[39m \u001b[38;5;28;01mFalse\u001b[39;00m\n\u001b[0;32m      5\u001b[0m score \u001b[38;5;241m=\u001b[39m \u001b[38;5;241m0\u001b[39m\n\u001b[1;32m----> 7\u001b[0m \u001b[38;5;28;01mwhile\u001b[39;00m (\u001b[43mdone\u001b[49m\u001b[38;5;241;43m==\u001b[39;49m\u001b[38;5;28;43;01mFalse\u001b[39;49;00m):\n\u001b[0;32m      8\u001b[0m     env\u001b[38;5;241m.\u001b[39mrender()\n\u001b[0;32m      9\u001b[0m     action, _  \u001b[38;5;241m=\u001b[39m model\u001b[38;5;241m.\u001b[39mpredict(obs)\n",
      "\u001b[1;31mValueError\u001b[0m: The truth value of an array with more than one element is ambiguous. Use a.any() or a.all()"
     ]
    }
   ],
   "source": [
    "episodes = 10\n",
    "for episode in range(1, episodes+1):\n",
    "    obs = env.reset()\n",
    "    done = False\n",
    "    score = 0\n",
    "    \n",
    "    while (done==False):\n",
    "        env.render()\n",
    "        action, _  = model.predict(obs)\n",
    "        obs, reward, done, info = env.step(action)\n",
    "        score += reward\n",
    "    \n",
    "    print(\"Episode:{} Score:{}\".format(episode, score))\n",
    "env.close()"
   ]
  }
 ],
 "metadata": {
  "kernelspec": {
   "display_name": "Python 3 (ipykernel)",
   "language": "python",
   "name": "python3"
  },
  "language_info": {
   "codemirror_mode": {
    "name": "ipython",
    "version": 3
   },
   "file_extension": ".py",
   "mimetype": "text/x-python",
   "name": "python",
   "nbconvert_exporter": "python",
   "pygments_lexer": "ipython3",
   "version": "3.10.2"
  }
 },
 "nbformat": 4,
 "nbformat_minor": 5
}
